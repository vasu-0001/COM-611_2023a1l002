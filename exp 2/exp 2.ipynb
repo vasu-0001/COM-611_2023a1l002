{
 "cells": [
  {
   "cell_type": "code",
   "execution_count": 18,
   "id": "5a467632",
   "metadata": {},
   "outputs": [],
   "source": [
    "import numpy as np\n",
    "import pandas as pd"
   ]
  },
  {
   "cell_type": "code",
   "execution_count": 19,
   "id": "8d806146",
   "metadata": {},
   "outputs": [
    {
     "name": "stdout",
     "output_type": "stream",
     "text": [
      "   sunny  warm normal  strong warm.1    same  yes\n",
      "0  sunny  warm   high  strong   warm    same  yes\n",
      "1  rainy  cold   high  strong   warm  change   no\n",
      "2  sunny  warm   high  strong   cool  change  yes\n"
     ]
    }
   ],
   "source": [
    "data = pd.DataFrame(data=pd.read_csv('Book1.csv'))\n",
    "print(data)"
   ]
  },
  {
   "cell_type": "code",
   "execution_count": 20,
   "id": "f9873361",
   "metadata": {},
   "outputs": [
    {
     "name": "stdout",
     "output_type": "stream",
     "text": [
      "[['sunny' 'warm' 'high' 'strong' 'warm' 'same']\n",
      " ['rainy' 'cold' 'high' 'strong' 'warm' 'change']\n",
      " ['sunny' 'warm' 'high' 'strong' 'cool' 'change']]\n"
     ]
    }
   ],
   "source": [
    "concepts = np.array(data.iloc[:,0:-1])\n",
    "print(concepts)"
   ]
  },
  {
   "cell_type": "code",
   "execution_count": 21,
   "id": "f5962eb5",
   "metadata": {},
   "outputs": [
    {
     "name": "stdout",
     "output_type": "stream",
     "text": [
      "['yes' 'no' 'yes']\n"
     ]
    }
   ],
   "source": [
    "target=np.array(data.iloc[:,-1])\n",
    "print(target)\n"
   ]
  },
  {
   "cell_type": "code",
   "execution_count": 22,
   "id": "6761c1a0",
   "metadata": {},
   "outputs": [],
   "source": [
    "def learn(concepts,target):\n",
    "    '''\n",
    "    learn() function impliments the learning method of the candidate elimination algorithm.\n",
    "    Arguments:\n",
    "        concepts- a data frame with all the features\n",
    "        target- a data frame with corresponding outpit values\n",
    "    '''\n",
    "    #Initialize S0 with the first instance from concepts\\\n",
    "    #.copy() makes sure a new list is created instead of just pointing to the same memory location\n",
    "    specific_h = concepts[0].copy()\n",
    "    print(\"\\nInitialization of specific_h and general_h\")\n",
    "    print(specific_h)\n",
    "\n",
    "    general_h=[[\"?\" for i in range(len(specific_h))] for i in range(len(specific_h))]\n",
    "    print(general_h)\n",
    "    #The Learning Iterations\n",
    "    for i, h in enumerate(concepts):\n",
    "        #Checking if the hypothesis has a positive target\n",
    "        if target[i]==\"Yes\":\n",
    "            for x in range (len(specific_h)):\n",
    "\n",
    "                #Change value in S & G only if values change\n",
    "                if h[x] != specific_h[x]:\n",
    "                    specific_h[x]='?'\n",
    "                    general_h[x][x]='?'\n",
    "\n",
    "\n",
    "        #Checking if the hypothesis has a negative target\n",
    "        if target[i]==\"No\":\n",
    "            for x in range(len(specific_h)):\n",
    "                #for negative hypothesis change values only in 6\n",
    "                if h[x] != specific_h[x]:\n",
    "                    general_h[x][x]=specific_h[x]\n",
    "                else:\n",
    "                    general_h[x][x]='?'\n",
    "        print(\"\\nSteps of Elimination Algorithm\",i+1)\n",
    "        print(specific_h)\n",
    "        print(general_h)\n",
    "\n",
    "    #find indices where we have empty rows, meaning those that are unchanged\n",
    "    indices=[i for i, val in enumerate(general_h) if val ==['?','?','?','?','?','?']]\n",
    "    for i in indices:\n",
    "        #remove those rows from general_h\n",
    "        general_h.remove(['?','?','?','?','?','?'])\n",
    "    #Return final values\n",
    "    return specific_h,general_h\n"
   ]
  },
  {
   "cell_type": "code",
   "execution_count": 24,
   "id": "8d4561f5",
   "metadata": {},
   "outputs": [
    {
     "name": "stdout",
     "output_type": "stream",
     "text": [
      "['yes' 'no' 'yes']\n"
     ]
    }
   ],
   "source": [
    "#initialise target into a separate dataframe\n",
    "#coping lost column to target array\n",
    "target=np.array(data.iloc[:,-1])\n",
    "print(target)\n"
   ]
  },
  {
   "cell_type": "code",
   "execution_count": 25,
   "id": "26fbe8c8",
   "metadata": {},
   "outputs": [
    {
     "name": "stdout",
     "output_type": "stream",
     "text": [
      "\n",
      "Initialization of specific_h and general_h\n",
      "['sunny' 'warm' 'high' 'strong' 'warm' 'same']\n",
      "[['?', '?', '?', '?', '?', '?'], ['?', '?', '?', '?', '?', '?'], ['?', '?', '?', '?', '?', '?'], ['?', '?', '?', '?', '?', '?'], ['?', '?', '?', '?', '?', '?'], ['?', '?', '?', '?', '?', '?']]\n",
      "\n",
      "Steps of Elimination Algorithm 1\n",
      "['sunny' 'warm' 'high' 'strong' 'warm' 'same']\n",
      "[['?', '?', '?', '?', '?', '?'], ['?', '?', '?', '?', '?', '?'], ['?', '?', '?', '?', '?', '?'], ['?', '?', '?', '?', '?', '?'], ['?', '?', '?', '?', '?', '?'], ['?', '?', '?', '?', '?', '?']]\n",
      "\n",
      "Steps of Elimination Algorithm 2\n",
      "['sunny' 'warm' 'high' 'strong' 'warm' 'same']\n",
      "[['?', '?', '?', '?', '?', '?'], ['?', '?', '?', '?', '?', '?'], ['?', '?', '?', '?', '?', '?'], ['?', '?', '?', '?', '?', '?'], ['?', '?', '?', '?', '?', '?'], ['?', '?', '?', '?', '?', '?']]\n",
      "\n",
      "Steps of Elimination Algorithm 3\n",
      "['sunny' 'warm' 'high' 'strong' 'warm' 'same']\n",
      "[['?', '?', '?', '?', '?', '?'], ['?', '?', '?', '?', '?', '?'], ['?', '?', '?', '?', '?', '?'], ['?', '?', '?', '?', '?', '?'], ['?', '?', '?', '?', '?', '?'], ['?', '?', '?', '?', '?', '?']]\n",
      "\n",
      "final Specific_h:\n",
      "['sunny' 'warm' 'high' 'strong' 'warm' 'same']\n",
      "\n",
      "final General_h:\n",
      "[]\n"
     ]
    }
   ],
   "source": [
    "s_final,g_final = learn(concepts,target)\n",
    "print(\"\\nfinal Specific_h:\",s_final,sep=\"\\n\")\n",
    "print(\"\\nfinal General_h:\",g_final,sep=\"\\n\")\n",
    "\n",
    "                      "
   ]
  },
  {
   "cell_type": "code",
   "execution_count": null,
   "id": "1f17dcf0",
   "metadata": {},
   "outputs": [],
   "source": []
  },
  {
   "cell_type": "code",
   "execution_count": null,
   "id": "88566b83",
   "metadata": {},
   "outputs": [],
   "source": []
  }
 ],
 "metadata": {
  "kernelspec": {
   "display_name": "Python 3 (ipykernel)",
   "language": "python",
   "name": "python3"
  },
  "language_info": {
   "codemirror_mode": {
    "name": "ipython",
    "version": 3
   },
   "file_extension": ".py",
   "mimetype": "text/x-python",
   "name": "python",
   "nbconvert_exporter": "python",
   "pygments_lexer": "ipython3",
   "version": "3.9.12"
  }
 },
 "nbformat": 4,
 "nbformat_minor": 5
}
