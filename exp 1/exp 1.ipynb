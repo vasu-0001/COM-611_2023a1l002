{
 "cells": [
  {
   "cell_type": "code",
   "execution_count": 3,
   "id": "c5f2ed13",
   "metadata": {},
   "outputs": [
    {
     "name": "stdout",
     "output_type": "stream",
     "text": [
      "\n",
      " the given Training Data set\n",
      "\n",
      "[' sunny', 'warm', 'normal', 'strong', 'warm', 'same', 'yes']\n",
      "['sunny', 'warm', 'high', 'strong', 'warm', 'same', 'yes']\n",
      "['rainy', 'cold', 'high', 'strong', 'warm', 'change', 'no']\n",
      "['sunny', 'warm', 'high', 'strong', 'cool', 'change', 'yes']\n",
      "\n",
      " The initial value of hypothesis:\n",
      "['0', '0', '0', '0', '0', '0']\n",
      "\n",
      " find S: finding a maximally specific hypothesis\n",
      "\n",
      "for Training instance No:1 the hypothesis is [' sunny', '0', '0', '0', '0', '0']\n",
      "for Training instance No:2 the hypothesis is [' sunny', '0', '0', '0', '0', '0']\n",
      "for Training instance No:4 the hypothesis is [' sunny', '0', '0', '0', '0', '0']\n",
      "\n",
      " find S: finding a maximally specific hypothesis\n",
      "\n",
      "for Training instance No:1 the hypothesis is [' sunny', 'warm', '0', '0', '0', '0']\n",
      "for Training instance No:2 the hypothesis is [' sunny', 'warm', '0', '0', '0', '0']\n",
      "for Training instance No:4 the hypothesis is [' sunny', 'warm', '0', '0', '0', '0']\n",
      "\n",
      " find S: finding a maximally specific hypothesis\n",
      "\n",
      "for Training instance No:1 the hypothesis is [' sunny', 'warm', 'normal', '0', '0', '0']\n",
      "for Training instance No:2 the hypothesis is [' sunny', 'warm', 'normal', '0', '0', '0']\n",
      "for Training instance No:4 the hypothesis is [' sunny', 'warm', 'normal', '0', '0', '0']\n",
      "\n",
      " find S: finding a maximally specific hypothesis\n",
      "\n",
      "for Training instance No:1 the hypothesis is [' sunny', 'warm', 'normal', 'strong', '0', '0']\n",
      "for Training instance No:2 the hypothesis is [' sunny', 'warm', 'normal', 'strong', '0', '0']\n",
      "for Training instance No:4 the hypothesis is [' sunny', 'warm', 'normal', 'strong', '0', '0']\n",
      "\n",
      " find S: finding a maximally specific hypothesis\n",
      "\n",
      "for Training instance No:1 the hypothesis is [' sunny', 'warm', 'normal', 'strong', 'warm', '0']\n",
      "for Training instance No:2 the hypothesis is [' sunny', 'warm', 'normal', 'strong', 'warm', '0']\n",
      "for Training instance No:4 the hypothesis is [' sunny', 'warm', 'normal', 'strong', 'warm', '0']\n",
      "\n",
      " find S: finding a maximally specific hypothesis\n",
      "\n",
      "for Training instance No:1 the hypothesis is [' sunny', 'warm', 'normal', 'strong', 'warm', 'same']\n",
      "for Training instance No:2 the hypothesis is [' sunny', 'warm', 'normal', 'strong', 'warm', 'same']\n",
      "for Training instance No:4 the hypothesis is [' sunny', 'warm', 'normal', 'strong', 'warm', 'same']\n",
      "\n",
      " The Maximally Specific Hypojthesis for a given Training Exanple:\n",
      "\n",
      "[' sunny', 'warm', 'normal', 'strong', 'warm', 'same']\n"
     ]
    }
   ],
   "source": [
    "import csv\n",
    "num_attributes=6\n",
    "a=[]\n",
    "print(\"\\n the given Training Data set\\n\")\n",
    "with open ('book1.csv','r') as csvfile:\n",
    "    reader = csv.reader(csvfile)\n",
    "    for row in reader:\n",
    "        a.append(row)\n",
    "        print(row)\n",
    "         \n",
    "print(\"\\n The initial value of hypothesis:\")\n",
    "hypothesis=['0']*num_attributes\n",
    "print(hypothesis)\n",
    "\n",
    "#initialize hypothesis with the first postiveeexamples\n",
    "for j in range(0,num_attributes):\n",
    "    hypothesis[j]=a[0][j]\n",
    "    \n",
    "    print(\"\\n find S: finding a maximally specific hypothesis\\n\")\n",
    "    \n",
    "    for i in range(0,len(a)):\n",
    "        if a[i][num_attributes] =='yes': #consider only postive examples\n",
    "            for j in range(0,num_attributes):\n",
    "                if a[i][j]!=hypothesis[j]:\n",
    "                    hypothesis[j]:'?'\n",
    "                else:\n",
    "                    hypothesis[j]=a[i][j]\n",
    "            print(\"for Training instance No:{0} the hypothesis is\".format(i+1),hypothesis)\n",
    "print(\"\\n The Maximally Specific Hypojthesis for a given Training Exanple:\\n\")\n",
    "print (hypothesis)"
   ]
  },
  {
   "cell_type": "code",
   "execution_count": null,
   "id": "7a405fe8",
   "metadata": {},
   "outputs": [],
   "source": []
  }
 ],
 "metadata": {
  "kernelspec": {
   "display_name": "Python 3 (ipykernel)",
   "language": "python",
   "name": "python3"
  },
  "language_info": {
   "codemirror_mode": {
    "name": "ipython",
    "version": 3
   },
   "file_extension": ".py",
   "mimetype": "text/x-python",
   "name": "python",
   "nbconvert_exporter": "python",
   "pygments_lexer": "ipython3",
   "version": "3.9.12"
  }
 },
 "nbformat": 4,
 "nbformat_minor": 5
}
